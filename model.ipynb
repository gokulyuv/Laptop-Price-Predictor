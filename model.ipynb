{
 "cells": [
  {
   "cell_type": "code",
   "execution_count": 1,
   "metadata": {},
   "outputs": [],
   "source": [
    "import pandas as pd\n",
    "import matplotlib.pyplot as plt"
   ]
  },
  {
   "cell_type": "code",
   "execution_count": 2,
   "metadata": {},
   "outputs": [],
   "source": [
    "data=pd.read_csv('data.csv')"
   ]
  },
  {
   "cell_type": "code",
   "execution_count": 3,
   "metadata": {},
   "outputs": [
    {
     "data": {
      "text/plain": [
       "(2774, 12)"
      ]
     },
     "execution_count": 3,
     "metadata": {},
     "output_type": "execute_result"
    }
   ],
   "source": [
    "data.shape"
   ]
  },
  {
   "cell_type": "code",
   "execution_count": 4,
   "metadata": {},
   "outputs": [
    {
     "data": {
      "text/html": [
       "<div>\n",
       "<style scoped>\n",
       "    .dataframe tbody tr th:only-of-type {\n",
       "        vertical-align: middle;\n",
       "    }\n",
       "\n",
       "    .dataframe tbody tr th {\n",
       "        vertical-align: top;\n",
       "    }\n",
       "\n",
       "    .dataframe thead th {\n",
       "        text-align: right;\n",
       "    }\n",
       "</style>\n",
       "<table border=\"1\" class=\"dataframe\">\n",
       "  <thead>\n",
       "    <tr style=\"text-align: right;\">\n",
       "      <th></th>\n",
       "      <th>ID</th>\n",
       "      <th>RAM</th>\n",
       "      <th>HDD</th>\n",
       "      <th>SSD1</th>\n",
       "      <th>SSD2</th>\n",
       "      <th>OS</th>\n",
       "      <th>CHIPSET</th>\n",
       "      <th>SCREEN SIZE</th>\n",
       "      <th>RESOLUTION</th>\n",
       "      <th>GRAPHICS CARD</th>\n",
       "      <th>GPU MEMORY</th>\n",
       "      <th>PRICE</th>\n",
       "    </tr>\n",
       "  </thead>\n",
       "  <tbody>\n",
       "    <tr>\n",
       "      <td>0</td>\n",
       "      <td>IdeaPad 3 14i</td>\n",
       "      <td>4</td>\n",
       "      <td>0</td>\n",
       "      <td>128.0</td>\n",
       "      <td>0.0</td>\n",
       "      <td>Windows-Home</td>\n",
       "      <td>Intel-i3-10-G1</td>\n",
       "      <td>14.0</td>\n",
       "      <td>HD</td>\n",
       "      <td>Integrated</td>\n",
       "      <td>0</td>\n",
       "      <td>37116</td>\n",
       "    </tr>\n",
       "    <tr>\n",
       "      <td>1</td>\n",
       "      <td>IdeaPad 3 14i</td>\n",
       "      <td>4</td>\n",
       "      <td>0</td>\n",
       "      <td>128.0</td>\n",
       "      <td>0.0</td>\n",
       "      <td>Windows-Home</td>\n",
       "      <td>Intel-i5-10-G1</td>\n",
       "      <td>14.0</td>\n",
       "      <td>HD</td>\n",
       "      <td>Integrated</td>\n",
       "      <td>0</td>\n",
       "      <td>49236</td>\n",
       "    </tr>\n",
       "    <tr>\n",
       "      <td>2</td>\n",
       "      <td>IdeaPad 3 14i</td>\n",
       "      <td>4</td>\n",
       "      <td>0</td>\n",
       "      <td>128.0</td>\n",
       "      <td>0.0</td>\n",
       "      <td>Windows-Home</td>\n",
       "      <td>Intel-i5-10-G4</td>\n",
       "      <td>14.0</td>\n",
       "      <td>HD</td>\n",
       "      <td>Integrated</td>\n",
       "      <td>0</td>\n",
       "      <td>50036</td>\n",
       "    </tr>\n",
       "    <tr>\n",
       "      <td>3</td>\n",
       "      <td>IdeaPad 3 14i</td>\n",
       "      <td>8</td>\n",
       "      <td>0</td>\n",
       "      <td>128.0</td>\n",
       "      <td>0.0</td>\n",
       "      <td>Windows-Home</td>\n",
       "      <td>Intel-i7-10-G7</td>\n",
       "      <td>14.0</td>\n",
       "      <td>HD</td>\n",
       "      <td>Integrated</td>\n",
       "      <td>0</td>\n",
       "      <td>62036</td>\n",
       "    </tr>\n",
       "    <tr>\n",
       "      <td>4</td>\n",
       "      <td>IdeaPad 3 14i</td>\n",
       "      <td>4</td>\n",
       "      <td>0</td>\n",
       "      <td>128.0</td>\n",
       "      <td>0.0</td>\n",
       "      <td>Windows-Pro</td>\n",
       "      <td>Intel-i3-10-G1</td>\n",
       "      <td>14.0</td>\n",
       "      <td>HD</td>\n",
       "      <td>Integrated</td>\n",
       "      <td>0</td>\n",
       "      <td>47876</td>\n",
       "    </tr>\n",
       "  </tbody>\n",
       "</table>\n",
       "</div>"
      ],
      "text/plain": [
       "              ID  RAM  HDD   SSD1  SSD2            OS         CHIPSET  \\\n",
       "0  IdeaPad 3 14i    4    0  128.0   0.0  Windows-Home  Intel-i3-10-G1   \n",
       "1  IdeaPad 3 14i    4    0  128.0   0.0  Windows-Home  Intel-i5-10-G1   \n",
       "2  IdeaPad 3 14i    4    0  128.0   0.0  Windows-Home  Intel-i5-10-G4   \n",
       "3  IdeaPad 3 14i    8    0  128.0   0.0  Windows-Home  Intel-i7-10-G7   \n",
       "4  IdeaPad 3 14i    4    0  128.0   0.0   Windows-Pro  Intel-i3-10-G1   \n",
       "\n",
       "   SCREEN SIZE RESOLUTION GRAPHICS CARD  GPU MEMORY  PRICE  \n",
       "0         14.0         HD    Integrated           0  37116  \n",
       "1         14.0         HD    Integrated           0  49236  \n",
       "2         14.0         HD    Integrated           0  50036  \n",
       "3         14.0         HD    Integrated           0  62036  \n",
       "4         14.0         HD    Integrated           0  47876  "
      ]
     },
     "execution_count": 4,
     "metadata": {},
     "output_type": "execute_result"
    }
   ],
   "source": [
    "data.head()"
   ]
  },
  {
   "cell_type": "code",
   "execution_count": 5,
   "metadata": {},
   "outputs": [],
   "source": [
    "data=data.set_index('ID')"
   ]
  },
  {
   "cell_type": "code",
   "execution_count": 6,
   "metadata": {},
   "outputs": [
    {
     "data": {
      "text/html": [
       "<div>\n",
       "<style scoped>\n",
       "    .dataframe tbody tr th:only-of-type {\n",
       "        vertical-align: middle;\n",
       "    }\n",
       "\n",
       "    .dataframe tbody tr th {\n",
       "        vertical-align: top;\n",
       "    }\n",
       "\n",
       "    .dataframe thead th {\n",
       "        text-align: right;\n",
       "    }\n",
       "</style>\n",
       "<table border=\"1\" class=\"dataframe\">\n",
       "  <thead>\n",
       "    <tr style=\"text-align: right;\">\n",
       "      <th></th>\n",
       "      <th>RAM</th>\n",
       "      <th>HDD</th>\n",
       "      <th>SSD1</th>\n",
       "      <th>SSD2</th>\n",
       "      <th>OS</th>\n",
       "      <th>CHIPSET</th>\n",
       "      <th>SCREEN SIZE</th>\n",
       "      <th>RESOLUTION</th>\n",
       "      <th>GRAPHICS CARD</th>\n",
       "      <th>GPU MEMORY</th>\n",
       "      <th>PRICE</th>\n",
       "    </tr>\n",
       "    <tr>\n",
       "      <th>ID</th>\n",
       "      <th></th>\n",
       "      <th></th>\n",
       "      <th></th>\n",
       "      <th></th>\n",
       "      <th></th>\n",
       "      <th></th>\n",
       "      <th></th>\n",
       "      <th></th>\n",
       "      <th></th>\n",
       "      <th></th>\n",
       "      <th></th>\n",
       "    </tr>\n",
       "  </thead>\n",
       "  <tbody>\n",
       "    <tr>\n",
       "      <td>IdeaPad 3 14i</td>\n",
       "      <td>4</td>\n",
       "      <td>0</td>\n",
       "      <td>128.0</td>\n",
       "      <td>0.0</td>\n",
       "      <td>Windows-Home</td>\n",
       "      <td>Intel-i3-10-G1</td>\n",
       "      <td>14.0</td>\n",
       "      <td>HD</td>\n",
       "      <td>Integrated</td>\n",
       "      <td>0</td>\n",
       "      <td>37116</td>\n",
       "    </tr>\n",
       "    <tr>\n",
       "      <td>IdeaPad 3 14i</td>\n",
       "      <td>4</td>\n",
       "      <td>0</td>\n",
       "      <td>128.0</td>\n",
       "      <td>0.0</td>\n",
       "      <td>Windows-Home</td>\n",
       "      <td>Intel-i5-10-G1</td>\n",
       "      <td>14.0</td>\n",
       "      <td>HD</td>\n",
       "      <td>Integrated</td>\n",
       "      <td>0</td>\n",
       "      <td>49236</td>\n",
       "    </tr>\n",
       "    <tr>\n",
       "      <td>IdeaPad 3 14i</td>\n",
       "      <td>4</td>\n",
       "      <td>0</td>\n",
       "      <td>128.0</td>\n",
       "      <td>0.0</td>\n",
       "      <td>Windows-Home</td>\n",
       "      <td>Intel-i5-10-G4</td>\n",
       "      <td>14.0</td>\n",
       "      <td>HD</td>\n",
       "      <td>Integrated</td>\n",
       "      <td>0</td>\n",
       "      <td>50036</td>\n",
       "    </tr>\n",
       "    <tr>\n",
       "      <td>IdeaPad 3 14i</td>\n",
       "      <td>8</td>\n",
       "      <td>0</td>\n",
       "      <td>128.0</td>\n",
       "      <td>0.0</td>\n",
       "      <td>Windows-Home</td>\n",
       "      <td>Intel-i7-10-G7</td>\n",
       "      <td>14.0</td>\n",
       "      <td>HD</td>\n",
       "      <td>Integrated</td>\n",
       "      <td>0</td>\n",
       "      <td>62036</td>\n",
       "    </tr>\n",
       "    <tr>\n",
       "      <td>IdeaPad 3 14i</td>\n",
       "      <td>4</td>\n",
       "      <td>0</td>\n",
       "      <td>128.0</td>\n",
       "      <td>0.0</td>\n",
       "      <td>Windows-Pro</td>\n",
       "      <td>Intel-i3-10-G1</td>\n",
       "      <td>14.0</td>\n",
       "      <td>HD</td>\n",
       "      <td>Integrated</td>\n",
       "      <td>0</td>\n",
       "      <td>47876</td>\n",
       "    </tr>\n",
       "  </tbody>\n",
       "</table>\n",
       "</div>"
      ],
      "text/plain": [
       "               RAM  HDD   SSD1  SSD2            OS         CHIPSET  \\\n",
       "ID                                                                   \n",
       "IdeaPad 3 14i    4    0  128.0   0.0  Windows-Home  Intel-i3-10-G1   \n",
       "IdeaPad 3 14i    4    0  128.0   0.0  Windows-Home  Intel-i5-10-G1   \n",
       "IdeaPad 3 14i    4    0  128.0   0.0  Windows-Home  Intel-i5-10-G4   \n",
       "IdeaPad 3 14i    8    0  128.0   0.0  Windows-Home  Intel-i7-10-G7   \n",
       "IdeaPad 3 14i    4    0  128.0   0.0   Windows-Pro  Intel-i3-10-G1   \n",
       "\n",
       "               SCREEN SIZE RESOLUTION GRAPHICS CARD  GPU MEMORY  PRICE  \n",
       "ID                                                                      \n",
       "IdeaPad 3 14i         14.0         HD    Integrated           0  37116  \n",
       "IdeaPad 3 14i         14.0         HD    Integrated           0  49236  \n",
       "IdeaPad 3 14i         14.0         HD    Integrated           0  50036  \n",
       "IdeaPad 3 14i         14.0         HD    Integrated           0  62036  \n",
       "IdeaPad 3 14i         14.0         HD    Integrated           0  47876  "
      ]
     },
     "execution_count": 6,
     "metadata": {},
     "output_type": "execute_result"
    }
   ],
   "source": [
    "data.head()"
   ]
  },
  {
   "cell_type": "code",
   "execution_count": null,
   "metadata": {},
   "outputs": [],
   "source": []
  },
  {
   "cell_type": "code",
   "execution_count": 7,
   "metadata": {},
   "outputs": [],
   "source": [
    "#data=data.drop('Unnamed: 12',axis=1)"
   ]
  },
  {
   "cell_type": "code",
   "execution_count": 8,
   "metadata": {},
   "outputs": [
    {
     "data": {
      "text/plain": [
       "(2774, 11)"
      ]
     },
     "execution_count": 8,
     "metadata": {},
     "output_type": "execute_result"
    }
   ],
   "source": [
    "data.shape"
   ]
  },
  {
   "cell_type": "code",
   "execution_count": 9,
   "metadata": {},
   "outputs": [
    {
     "data": {
      "text/html": [
       "<div>\n",
       "<style scoped>\n",
       "    .dataframe tbody tr th:only-of-type {\n",
       "        vertical-align: middle;\n",
       "    }\n",
       "\n",
       "    .dataframe tbody tr th {\n",
       "        vertical-align: top;\n",
       "    }\n",
       "\n",
       "    .dataframe thead th {\n",
       "        text-align: right;\n",
       "    }\n",
       "</style>\n",
       "<table border=\"1\" class=\"dataframe\">\n",
       "  <thead>\n",
       "    <tr style=\"text-align: right;\">\n",
       "      <th></th>\n",
       "      <th>RAM</th>\n",
       "      <th>HDD</th>\n",
       "      <th>SSD1</th>\n",
       "      <th>SSD2</th>\n",
       "      <th>OS</th>\n",
       "      <th>CHIPSET</th>\n",
       "      <th>SCREEN SIZE</th>\n",
       "      <th>RESOLUTION</th>\n",
       "      <th>GRAPHICS CARD</th>\n",
       "      <th>GPU MEMORY</th>\n",
       "      <th>PRICE</th>\n",
       "    </tr>\n",
       "    <tr>\n",
       "      <th>ID</th>\n",
       "      <th></th>\n",
       "      <th></th>\n",
       "      <th></th>\n",
       "      <th></th>\n",
       "      <th></th>\n",
       "      <th></th>\n",
       "      <th></th>\n",
       "      <th></th>\n",
       "      <th></th>\n",
       "      <th></th>\n",
       "      <th></th>\n",
       "    </tr>\n",
       "  </thead>\n",
       "  <tbody>\n",
       "    <tr>\n",
       "      <td>IdeaPad 3 14i</td>\n",
       "      <td>4</td>\n",
       "      <td>0</td>\n",
       "      <td>128.0</td>\n",
       "      <td>0.0</td>\n",
       "      <td>Windows-Home</td>\n",
       "      <td>Intel-i3-10-G1</td>\n",
       "      <td>14.0</td>\n",
       "      <td>HD</td>\n",
       "      <td>Integrated</td>\n",
       "      <td>0</td>\n",
       "      <td>37116</td>\n",
       "    </tr>\n",
       "    <tr>\n",
       "      <td>IdeaPad 3 14i</td>\n",
       "      <td>4</td>\n",
       "      <td>0</td>\n",
       "      <td>128.0</td>\n",
       "      <td>0.0</td>\n",
       "      <td>Windows-Home</td>\n",
       "      <td>Intel-i5-10-G1</td>\n",
       "      <td>14.0</td>\n",
       "      <td>HD</td>\n",
       "      <td>Integrated</td>\n",
       "      <td>0</td>\n",
       "      <td>49236</td>\n",
       "    </tr>\n",
       "    <tr>\n",
       "      <td>IdeaPad 3 14i</td>\n",
       "      <td>4</td>\n",
       "      <td>0</td>\n",
       "      <td>128.0</td>\n",
       "      <td>0.0</td>\n",
       "      <td>Windows-Home</td>\n",
       "      <td>Intel-i5-10-G4</td>\n",
       "      <td>14.0</td>\n",
       "      <td>HD</td>\n",
       "      <td>Integrated</td>\n",
       "      <td>0</td>\n",
       "      <td>50036</td>\n",
       "    </tr>\n",
       "    <tr>\n",
       "      <td>IdeaPad 3 14i</td>\n",
       "      <td>8</td>\n",
       "      <td>0</td>\n",
       "      <td>128.0</td>\n",
       "      <td>0.0</td>\n",
       "      <td>Windows-Home</td>\n",
       "      <td>Intel-i7-10-G7</td>\n",
       "      <td>14.0</td>\n",
       "      <td>HD</td>\n",
       "      <td>Integrated</td>\n",
       "      <td>0</td>\n",
       "      <td>62036</td>\n",
       "    </tr>\n",
       "    <tr>\n",
       "      <td>IdeaPad 3 14i</td>\n",
       "      <td>4</td>\n",
       "      <td>0</td>\n",
       "      <td>128.0</td>\n",
       "      <td>0.0</td>\n",
       "      <td>Windows-Pro</td>\n",
       "      <td>Intel-i3-10-G1</td>\n",
       "      <td>14.0</td>\n",
       "      <td>HD</td>\n",
       "      <td>Integrated</td>\n",
       "      <td>0</td>\n",
       "      <td>47876</td>\n",
       "    </tr>\n",
       "  </tbody>\n",
       "</table>\n",
       "</div>"
      ],
      "text/plain": [
       "               RAM  HDD   SSD1  SSD2            OS         CHIPSET  \\\n",
       "ID                                                                   \n",
       "IdeaPad 3 14i    4    0  128.0   0.0  Windows-Home  Intel-i3-10-G1   \n",
       "IdeaPad 3 14i    4    0  128.0   0.0  Windows-Home  Intel-i5-10-G1   \n",
       "IdeaPad 3 14i    4    0  128.0   0.0  Windows-Home  Intel-i5-10-G4   \n",
       "IdeaPad 3 14i    8    0  128.0   0.0  Windows-Home  Intel-i7-10-G7   \n",
       "IdeaPad 3 14i    4    0  128.0   0.0   Windows-Pro  Intel-i3-10-G1   \n",
       "\n",
       "               SCREEN SIZE RESOLUTION GRAPHICS CARD  GPU MEMORY  PRICE  \n",
       "ID                                                                      \n",
       "IdeaPad 3 14i         14.0         HD    Integrated           0  37116  \n",
       "IdeaPad 3 14i         14.0         HD    Integrated           0  49236  \n",
       "IdeaPad 3 14i         14.0         HD    Integrated           0  50036  \n",
       "IdeaPad 3 14i         14.0         HD    Integrated           0  62036  \n",
       "IdeaPad 3 14i         14.0         HD    Integrated           0  47876  "
      ]
     },
     "execution_count": 9,
     "metadata": {},
     "output_type": "execute_result"
    }
   ],
   "source": [
    "data.head()"
   ]
  },
  {
   "cell_type": "code",
   "execution_count": 10,
   "metadata": {},
   "outputs": [],
   "source": [
    "data['SSD1']=data['SSD1'].astype(int)"
   ]
  },
  {
   "cell_type": "code",
   "execution_count": 11,
   "metadata": {},
   "outputs": [],
   "source": [
    "data['SSD2']=data['SSD2'].astype(int)"
   ]
  },
  {
   "cell_type": "code",
   "execution_count": 12,
   "metadata": {},
   "outputs": [],
   "source": [
    "data['SCREEN SIZE']=data['SCREEN SIZE'].astype(int)"
   ]
  },
  {
   "cell_type": "code",
   "execution_count": 13,
   "metadata": {
    "scrolled": true
   },
   "outputs": [
    {
     "data": {
      "text/plain": [
       "array(['Intel-i3-10-G1', 'Intel-i5-10-G1', 'Intel-i5-10-G4',\n",
       "       'Intel-i7-10-G7', 'AMD-Ryzen-3', 'AMD-Ryzen-5', 'Intel-i5-9',\n",
       "       'Intel-i5-10', 'Intel-i7-8', 'Intel-i3-10', 'AMD-R7',\n",
       "       'Celeron N4000', '\\xa0Gemini Lake Celeron N4000', 'AMD-Ryzen-7',\n",
       "       'Intel-i3-7', 'Intel-i5-8', 'Intel-i3-8', 'Intel-i7-10',\n",
       "       'Intel-i7-11', 'Intel-i5-6', 'Intel-i5-9-9300', 'Intel-i5-9-9400',\n",
       "       'Intel-i7-9-9750', 'Intel-i7-9-9850'], dtype=object)"
      ]
     },
     "execution_count": 13,
     "metadata": {},
     "output_type": "execute_result"
    }
   ],
   "source": [
    "data['CHIPSET'].unique()"
   ]
  },
  {
   "cell_type": "code",
   "execution_count": 14,
   "metadata": {},
   "outputs": [],
   "source": [
    "def convert_to_int(word):\n",
    "    word_dict = {'Intel-i3-10-G1':1, 'Intel-i5-10-G1':2, 'Intel-i5-10-G4':3, 'Intel-i7-10-G7':4, 'AMD-Ryzen-3':5, \n",
    "                 'AMD-Ryzen-5':6,\n",
    "                 'Intel-i5-9':7, 'Intel-i5-10':8,\n",
    "                'Intel-i7-8':9, 'Intel-i3-10':10, 'AMD-R7':11, 'Celeron N4000':12, \n",
    "                 '\\xa0Gemini Lake Celeron N4000':13, 'AMD-Ryzen-7': 14,'Intel-i3-7':15, 'Intel-i5-8':16, \n",
    "                 'Intel-i3-8':17,\n",
    "       'Intel-i7-10':18, 'Intel-i7-11':19, 'Intel-i5-6':20, \n",
    "                 'Intel-i5-9-9300':21,\n",
    "       'Intel-i5-9-9400':22, 'Intel-i7-9-9750':23, 'Intel-i7-9-9850':24}\n",
    "    return word_dict[word]\n",
    "\n",
    "data['CHIPSET'] = data['CHIPSET'].apply(lambda x : convert_to_int(x))"
   ]
  },
  {
   "cell_type": "code",
   "execution_count": 15,
   "metadata": {},
   "outputs": [
    {
     "data": {
      "text/plain": [
       "array(['Windows-Home', 'Windows-Pro', 'DOS'], dtype=object)"
      ]
     },
     "execution_count": 15,
     "metadata": {},
     "output_type": "execute_result"
    }
   ],
   "source": [
    "data['OS'].unique()"
   ]
  },
  {
   "cell_type": "code",
   "execution_count": 16,
   "metadata": {},
   "outputs": [],
   "source": [
    "def convert_to_int2(word):\n",
    "    word_dict = {'Windows-Home':1, 'Windows-Pro':2, 'DOS':3}\n",
    "    return word_dict[word]\n",
    "\n",
    "data['OS'] = data['OS'].apply(lambda x : convert_to_int2(x))"
   ]
  },
  {
   "cell_type": "code",
   "execution_count": 17,
   "metadata": {},
   "outputs": [
    {
     "data": {
      "text/plain": [
       "array([14, 15, 10, 13], dtype=int64)"
      ]
     },
     "execution_count": 17,
     "metadata": {},
     "output_type": "execute_result"
    }
   ],
   "source": [
    "data['SCREEN SIZE'].unique()"
   ]
  },
  {
   "cell_type": "code",
   "execution_count": 18,
   "metadata": {},
   "outputs": [
    {
     "data": {
      "text/plain": [
       "array(['HD', 'FHD', 'FHD Touch', 'HD Touch', 'QHD', 'WQHD', 'WQHD Touch',\n",
       "       'FHD HDR', 'UHD', 'UHD Touch'], dtype=object)"
      ]
     },
     "execution_count": 18,
     "metadata": {},
     "output_type": "execute_result"
    }
   ],
   "source": [
    "data['RESOLUTION'].unique()"
   ]
  },
  {
   "cell_type": "code",
   "execution_count": 19,
   "metadata": {},
   "outputs": [],
   "source": [
    "def convert_to_int2(word):\n",
    "    word_dict = {'HD':1, 'FHD':2, 'FHD Touch':3, 'HD Touch':4, 'QHD':5, 'WQHD':6, 'WQHD Touch':7,\n",
    "       'FHD HDR':8, 'UHD':9, 'UHD Touch':10}\n",
    "    return word_dict[word]\n",
    "\n",
    "data['RESOLUTION']= data['RESOLUTION'].apply(lambda x : convert_to_int2(x))"
   ]
  },
  {
   "cell_type": "code",
   "execution_count": 20,
   "metadata": {},
   "outputs": [
    {
     "data": {
      "text/plain": [
       "array([ 4,  8, 12, 16, 32, 64], dtype=int64)"
      ]
     },
     "execution_count": 20,
     "metadata": {},
     "output_type": "execute_result"
    }
   ],
   "source": [
    "data['RAM'].unique()"
   ]
  },
  {
   "cell_type": "code",
   "execution_count": 21,
   "metadata": {},
   "outputs": [
    {
     "data": {
      "text/plain": [
       "array(['Integrated', 'Integrated Vega 8', 'GTX 1650', 'GTX 1050',\n",
       "       'MX 230', 'Radeon Vega 8', 'Intel UHD', 'GTX 1650ti',\n",
       "       'Integrated AMD Radeon Vega 3', 'Intel HD', 'MX230', 'MX110',\n",
       "       'MX250', ' MX150', 'AMD Radeon 540', '940MX'], dtype=object)"
      ]
     },
     "execution_count": 21,
     "metadata": {},
     "output_type": "execute_result"
    }
   ],
   "source": [
    "data['GRAPHICS CARD'].unique()"
   ]
  },
  {
   "cell_type": "code",
   "execution_count": 22,
   "metadata": {},
   "outputs": [],
   "source": [
    "def convert_to_int2(word):\n",
    "    word_dict = {'Integrated':1, 'Integrated Vega 8':2, 'GTX 1650':3, 'GTX 1050':4,\n",
    "       'MX 230':5, 'Radeon Vega 8':6, 'Intel UHD':7, 'GTX 1650ti':8,\n",
    "       'Integrated AMD Radeon Vega 3':9, 'Intel HD':10, 'MX230':11, 'MX110':12,\n",
    "       'MX250':13, ' MX150':14, 'AMD Radeon 540':15, '940MX':16}\n",
    "    return word_dict[word]\n",
    "\n",
    "data['GRAPHICS CARD']= data['GRAPHICS CARD'].apply(lambda x : convert_to_int2(x))"
   ]
  },
  {
   "cell_type": "code",
   "execution_count": 23,
   "metadata": {
    "scrolled": true
   },
   "outputs": [
    {
     "name": "stdout",
     "output_type": "stream",
     "text": [
      "<class 'pandas.core.frame.DataFrame'>\n",
      "Index: 2774 entries, IdeaPad 3 14i to ThinkPad X1 EXTREME Gen2\n",
      "Data columns (total 11 columns):\n",
      "RAM              2774 non-null int64\n",
      "HDD              2774 non-null int64\n",
      "SSD1             2774 non-null int32\n",
      "SSD2             2774 non-null int32\n",
      "OS               2774 non-null int64\n",
      "CHIPSET          2774 non-null int64\n",
      "SCREEN SIZE      2774 non-null int32\n",
      "RESOLUTION       2774 non-null int64\n",
      "GRAPHICS CARD    2774 non-null int64\n",
      "GPU MEMORY       2774 non-null int64\n",
      "PRICE            2774 non-null int64\n",
      "dtypes: int32(3), int64(8)\n",
      "memory usage: 227.6+ KB\n"
     ]
    }
   ],
   "source": [
    "data.info()"
   ]
  },
  {
   "cell_type": "code",
   "execution_count": 24,
   "metadata": {},
   "outputs": [
    {
     "data": {
      "text/plain": [
       "count      2774.000000\n",
       "mean     255613.742970\n",
       "std       65830.554851\n",
       "min       22999.000000\n",
       "25%      241040.500000\n",
       "50%      266281.500000\n",
       "75%      292271.750000\n",
       "max      392872.000000\n",
       "Name: PRICE, dtype: float64"
      ]
     },
     "execution_count": 24,
     "metadata": {},
     "output_type": "execute_result"
    }
   ],
   "source": [
    "data['PRICE'].describe()"
   ]
  },
  {
   "cell_type": "code",
   "execution_count": 25,
   "metadata": {},
   "outputs": [
    {
     "data": {
      "text/plain": [
       "<matplotlib.axes._subplots.AxesSubplot at 0x1fa2fe113c8>"
      ]
     },
     "execution_count": 25,
     "metadata": {},
     "output_type": "execute_result"
    },
    {
     "data": {
      "image/png": "[encoded data removed]",
      "text/plain": [
       "<Figure size 432x288 with 1 Axes>"
      ]
     },
     "metadata": {
      "needs_background": "light"
     },
     "output_type": "display_data"
    }
   ],
   "source": [
    "data.PRICE.hist()"
   ]
  },
  {
   "cell_type": "code",
   "execution_count": 26,
   "metadata": {},
   "outputs": [
    {
     "data": {
      "text/plain": [
       "Index(['RAM', 'HDD', 'SSD1', 'SSD2', 'OS', 'CHIPSET', 'SCREEN SIZE',\n",
       "       'RESOLUTION', 'GRAPHICS CARD', 'GPU MEMORY', 'PRICE'],\n",
       "      dtype='object')"
      ]
     },
     "execution_count": 26,
     "metadata": {},
     "output_type": "execute_result"
    }
   ],
   "source": [
    "data.columns"
   ]
  },
  {
   "cell_type": "code",
   "execution_count": 27,
   "metadata": {},
   "outputs": [],
   "source": [
    "import pandas as pd\n",
    "from sklearn.linear_model import LogisticRegression\n",
    "from sklearn.model_selection import train_test_split\n",
    "from sklearn.preprocessing import LabelEncoder as le\n",
    "from sklearn.metrics import accuracy_score\n"
   ]
  },
  {
   "cell_type": "code",
   "execution_count": 28,
   "metadata": {},
   "outputs": [],
   "source": [
    "train , test = train_test_split(data,test_size=0.2,random_state=0)"
   ]
  },
  {
   "cell_type": "code",
   "execution_count": 29,
   "metadata": {},
   "outputs": [],
   "source": [
    "train_x=train.drop(columns=['PRICE'])"
   ]
  },
  {
   "cell_type": "code",
   "execution_count": 30,
   "metadata": {},
   "outputs": [],
   "source": [
    "train_y=train['PRICE']"
   ]
  },
  {
   "cell_type": "code",
   "execution_count": 31,
   "metadata": {},
   "outputs": [],
   "source": [
    "test_x=test.drop(columns=['PRICE'])"
   ]
  },
  {
   "cell_type": "code",
   "execution_count": 32,
   "metadata": {},
   "outputs": [],
   "source": [
    "test_y=test['PRICE']\n"
   ]
  },
  {
   "cell_type": "code",
   "execution_count": 33,
   "metadata": {},
   "outputs": [],
   "source": [
    "train_x=train_x.to_numpy()\n",
    "train_y=train_y.to_numpy()\n",
    "test_x=test_x.to_numpy()\n",
    "test_y=test_y.to_numpy()"
   ]
  },
  {
   "cell_type": "code",
   "execution_count": 34,
   "metadata": {},
   "outputs": [
    {
     "data": {
      "text/plain": [
       "(2219, 10)"
      ]
     },
     "execution_count": 34,
     "metadata": {},
     "output_type": "execute_result"
    }
   ],
   "source": [
    "train_x.shape\n"
   ]
  },
  {
   "cell_type": "code",
   "execution_count": 35,
   "metadata": {},
   "outputs": [],
   "source": [
    "#train_x = pd.get_dummies(train_x)\n",
    "#test_x  = pd.get_dummies(test_x)"
   ]
  },
  {
   "cell_type": "markdown",
   "metadata": {},
   "source": [
    "from sklearn.linear_model import LinearRegression\n",
    "regressor = LinearRegression()\n",
    "regressor.fit(train_x,train_y)\n",
    "\n"
   ]
  },
  {
   "cell_type": "code",
   "execution_count": 36,
   "metadata": {},
   "outputs": [
    {
     "name": "stdout",
     "output_type": "stream",
     "text": [
      "[22:45:25] WARNING: src/objective/regression_obj.cu:152: reg:linear is now deprecated in favor of reg:squarederror.\n"
     ]
    },
    {
     "data": {
      "text/plain": [
       "XGBRegressor(base_score=0.5, booster='gbtree', colsample_bylevel=1,\n",
       "             colsample_bynode=1, colsample_bytree=1, gamma=0,\n",
       "             importance_type='gain', learning_rate=1, max_delta_step=0,\n",
       "             max_depth=3, min_child_weight=1, missing=None, n_estimators=100,\n",
       "             n_jobs=1, nthread=None, objective='reg:linear', random_state=0,\n",
       "             reg_alpha=0, reg_lambda=1, scale_pos_weight=1, seed=None,\n",
       "             silent=None, subsample=1, verbosity=1)"
      ]
     },
     "execution_count": 36,
     "metadata": {},
     "output_type": "execute_result"
    }
   ],
   "source": [
    "from xgboost import XGBRegressor as XGB\n",
    "regressor = XGB(learning_rate=1)\n",
    "regressor.fit(train_x,train_y)"
   ]
  },
  {
   "cell_type": "code",
   "execution_count": 37,
   "metadata": {},
   "outputs": [
    {
     "data": {
      "text/plain": [
       "(2219, 10)"
      ]
     },
     "execution_count": 37,
     "metadata": {},
     "output_type": "execute_result"
    }
   ],
   "source": [
    "train_x.shape"
   ]
  },
  {
   "cell_type": "code",
   "execution_count": 38,
   "metadata": {},
   "outputs": [
    {
     "data": {
      "text/plain": [
       "(555, 10)"
      ]
     },
     "execution_count": 38,
     "metadata": {},
     "output_type": "execute_result"
    }
   ],
   "source": [
    "test_x.shape"
   ]
  },
  {
   "cell_type": "code",
   "execution_count": 39,
   "metadata": {},
   "outputs": [],
   "source": [
    "# Predicting the Test set results\n",
    "y_pred = regressor.predict(test_x)"
   ]
  },
  {
   "cell_type": "code",
   "execution_count": 40,
   "metadata": {},
   "outputs": [],
   "source": [
    "from sklearn.metrics import mean_squared_error\n",
    "from math import sqrt\n",
    "\n",
    "rms = sqrt(mean_squared_error(y_pred, test_y))"
   ]
  },
  {
   "cell_type": "code",
   "execution_count": 41,
   "metadata": {},
   "outputs": [
    {
     "data": {
      "text/plain": [
       "3130.956037835003"
      ]
     },
     "execution_count": 41,
     "metadata": {},
     "output_type": "execute_result"
    }
   ],
   "source": [
    "rms"
   ]
  },
  {
   "cell_type": "code",
   "execution_count": 42,
   "metadata": {},
   "outputs": [
    {
     "data": {
      "text/plain": [
       "939.5618243243243"
      ]
     },
     "execution_count": 42,
     "metadata": {},
     "output_type": "execute_result"
    }
   ],
   "source": [
    "from sklearn.metrics import mean_absolute_error\n",
    "mean_absolute_error(test_y, y_pred)"
   ]
  },
  {
   "cell_type": "code",
   "execution_count": 43,
   "metadata": {},
   "outputs": [
    {
     "data": {
      "text/plain": [
       "array([250831.27 , 282165.38 , 276210.03 ,  48464.855, 243048.83 ,\n",
       "       210855.12 , 237468.98 , 320434.22 , 325825.75 , 247865.7  ,\n",
       "       224603.97 , 318384.94 , 285670.8  , 282631.78 , 255100.72 ,\n",
       "       290903.94 , 250769.8  , 250336.89 ,  59321.72 , 205578.3  ,\n",
       "       274715.34 , 320737.34 , 233832.9  , 314481.53 , 212880.44 ,\n",
       "       238594.39 , 283837.44 ,  69067.7  , 306343.4  , 316625.38 ,\n",
       "       249733.78 , 223407.92 , 286419.78 , 208281.19 , 264935.12 ,\n",
       "       282936.66 ,  50038.914, 269382.22 , 334421.1  , 265106.12 ,\n",
       "       289613.2  , 210922.86 , 265680.9  ,  63404.402,  63965.047,\n",
       "       232004.83 , 272259.06 ,  39574.35 , 291487.5  , 300845.38 ,\n",
       "        52474.496, 244933.3  , 276914.8  , 339128.44 , 249881.22 ,\n",
       "       306817.94 , 283221.62 , 250545.4  , 247020.84 , 292587.22 ,\n",
       "       288926.8  , 287889.9  ,  51469.086, 316138.1  , 292288.94 ,\n",
       "       257521.78 , 278446.66 , 293919.44 , 247497.19 , 259910.75 ,\n",
       "       221794.34 , 315432.06 , 281694.62 , 137932.25 , 326329.47 ,\n",
       "       308811.72 , 296899.03 , 225534.34 , 341845.56 , 242783.22 ,\n",
       "       275044.75 , 248436.44 , 251726.75 , 214002.36 , 254418.3  ,\n",
       "       247415.69 , 296737.4  , 297530.3  , 228842.14 , 289224.6  ,\n",
       "       234760.45 , 297394.72 , 253030.03 , 228874.31 ,  50593.066,\n",
       "       310238.25 , 270901.78 , 321269.88 , 286883.75 , 209451.83 ,\n",
       "       271326.8  , 227405.58 , 252660.03 , 300603.25 , 254049.52 ,\n",
       "       215088.05 , 270034.78 , 258680.08 , 362784.75 , 279808.97 ,\n",
       "       323526.78 , 264515.94 , 288101.78 , 288423.   , 274469.75 ,\n",
       "       245619.67 ,  62427.41 , 294269.62 , 290633.75 , 220555.4  ,\n",
       "       335426.47 , 292172.4  , 267312.28 , 304892.62 , 363671.9  ,\n",
       "       210516.42 , 242156.39 , 332894.5  , 272022.84 , 265272.5  ,\n",
       "       233393.4  , 265521.6  , 254347.31 , 218926.97 , 261795.67 ,\n",
       "       217927.55 , 289924.06 , 256552.   , 220518.58 , 229401.97 ,\n",
       "       241352.75 , 343397.53 , 262931.84 ,  53179.25 , 294299.22 ,\n",
       "       287444.8  , 238128.11 , 274246.88 , 280924.   ,  51594.223,\n",
       "       247122.84 , 336457.03 , 221776.02 , 206006.58 , 264422.8  ,\n",
       "       257114.14 , 330105.84 , 236977.62 , 241686.61 , 304985.12 ,\n",
       "       245286.92 ,  52555.707, 295463.25 , 334384.8  , 210735.98 ,\n",
       "       283873.84 , 221853.9  , 205254.67 , 275100.   , 295708.06 ,\n",
       "       265895.5  ,  36251.4  , 278194.22 , 287526.   , 239362.45 ,\n",
       "       381217.25 , 244345.81 , 265332.62 , 254962.45 , 283089.06 ,\n",
       "       282823.12 , 296064.12 , 246091.36 ,  61901.715, 306570.8  ,\n",
       "       227014.4  ,  71457.49 , 255616.4  , 262711.22 , 272251.66 ,\n",
       "       232088.03 , 284976.06 , 248899.11 , 305019.16 , 280073.72 ,\n",
       "       225570.7  , 248229.39 , 313686.44 , 291879.16 , 284674.22 ,\n",
       "       235518.45 , 285461.25 , 253937.47 , 223224.02 , 207155.69 ,\n",
       "       314641.66 , 235130.45 , 281947.75 , 276464.6  , 285857.2  ,\n",
       "       221195.44 , 275312.5  , 258299.97 , 322831.5  , 216132.52 ,\n",
       "       325504.2  , 296106.47 , 238155.6  ,  49675.887, 265349.8  ,\n",
       "       238228.86 , 277952.53 , 268297.44 , 258372.53 , 240421.77 ,\n",
       "        71241.3  , 210974.83 , 271686.94 , 248583.44 , 258064.67 ,\n",
       "       341957.56 , 231170.36 , 253601.03 , 283031.78 , 279322.66 ,\n",
       "       243146.61 , 283091.66 , 252232.3  , 246459.56 , 282296.7  ,\n",
       "       253319.69 , 266984.16 , 282745.75 , 227655.94 , 284689.38 ,\n",
       "       277175.7  , 226009.36 , 214865.11 , 301861.03 , 210563.02 ,\n",
       "       254980.02 ,  55515.83 , 220672.97 , 237331.92 ,  63089.027,\n",
       "       289647.28 , 276179.6  , 349455.03 , 320823.56 , 302515.3  ,\n",
       "       206768.33 , 292156.5  , 247480.19 , 291121.12 , 231254.53 ,\n",
       "       314059.5  , 255797.19 , 340496.9  , 274231.28 , 329196.84 ,\n",
       "       248569.94 , 216382.58 , 349844.6  , 300031.66 , 255463.84 ,\n",
       "       291079.06 , 224282.05 , 353960.9  , 272661.78 , 264538.7  ,\n",
       "       288932.78 , 265614.7  , 245317.53 , 254549.98 , 251262.58 ,\n",
       "       322712.12 , 292997.8  , 240637.23 , 240664.62 , 266168.22 ,\n",
       "       209766.81 , 250315.47 , 286948.97 , 276691.03 , 261899.62 ,\n",
       "        50151.84 , 317620.84 , 233146.38 , 230771.   , 242897.94 ,\n",
       "       220303.92 , 329021.56 , 242876.83 , 287589.88 , 267487.97 ,\n",
       "       260339.05 , 247059.7  ,  59751.58 , 254873.52 , 276324.75 ,\n",
       "       311598.25 , 264946.97 , 294759.28 , 315729.62 , 287548.44 ,\n",
       "       264566.44 , 328484.75 , 239539.56 , 244117.97 , 303845.97 ,\n",
       "       264249.56 , 283843.16 , 315499.12 , 276940.44 , 297244.53 ,\n",
       "       244273.48 , 320816.97 , 285602.5  , 278036.5  , 264514.06 ,\n",
       "       276969.06 , 290029.1  , 276858.53 , 262568.66 , 224371.27 ,\n",
       "       329119.2  , 300667.97 , 280129.3  , 290851.   , 286614.62 ,\n",
       "       259273.28 , 280725.2  ,  51701.98 , 282741.53 , 281515.22 ,\n",
       "       316200.5  , 314944.97 , 256866.78 , 333742.28 , 218196.48 ,\n",
       "       248474.28 , 290896.8  , 262362.03 , 331873.38 , 220712.89 ,\n",
       "       273932.4  , 253065.69 , 220094.73 , 251169.39 , 265575.56 ,\n",
       "       215685.36 , 329092.72 , 242643.19 , 257945.84 ,  72600.61 ,\n",
       "       295328.78 ,  41802.426, 277775.3  , 283239.7  , 340164.62 ,\n",
       "       300268.88 , 286604.   , 209433.84 , 326458.62 , 240464.33 ,\n",
       "       268394.53 , 285710.06 , 239471.19 , 272864.12 , 218586.39 ,\n",
       "       276379.25 , 273988.25 , 294230.28 , 220830.61 , 286052.7  ,\n",
       "       235671.75 , 254120.42 , 324761.72 , 217499.27 , 290395.25 ,\n",
       "       293619.34 , 311084.16 , 221965.86 , 313052.12 , 307158.62 ,\n",
       "       219248.45 ,  57932.76 , 294309.47 , 280062.88 ,  51240.668,\n",
       "       221214.   ,  53997.164, 244070.44 , 295185.4  , 269826.97 ,\n",
       "       273871.53 , 286613.9  , 294309.1  , 219729.44 , 262000.48 ,\n",
       "       245372.39 , 313668.88 , 330146.78 , 234001.22 , 243824.47 ,\n",
       "       251099.25 ,  54873.184, 220997.78 , 255858.8  , 275344.53 ,\n",
       "       251014.73 , 335650.4  , 212203.86 , 211420.52 , 262682.97 ,\n",
       "       229585.08 , 300463.56 , 295996.88 , 201761.5  , 262377.25 ,\n",
       "       309093.2  , 263245.38 , 306103.34 ,  63807.805, 278268.7  ,\n",
       "       277181.38 , 258808.06 , 255600.38 , 271862.28 , 224985.83 ,\n",
       "       255658.8  , 279817.84 , 224631.05 , 281515.22 , 277063.16 ,\n",
       "        61327.26 , 251587.2  , 278547.72 , 252330.95 , 269389.   ,\n",
       "       279939.28 , 232901.97 , 291500.44 , 265912.47 , 259138.1  ,\n",
       "       297625.66 , 255966.77 , 245286.9  , 334132.44 , 299012.16 ,\n",
       "       300419.9  , 309589.94 , 238567.64 ,  41812.375, 277816.53 ,\n",
       "       288485.62 , 290586.16 , 275629.16 , 251083.94 , 215001.11 ,\n",
       "       320948.56 , 285696.97 , 257892.5  , 266657.34 , 273198.06 ,\n",
       "       257186.17 , 273353.16 , 207940.95 , 299169.9  , 265886.8  ,\n",
       "       332151.72 , 215553.11 , 300842.38 ,  59952.754, 244820.58 ,\n",
       "       244322.66 , 356675.62 , 258511.77 , 315811.1  , 277727.7  ,\n",
       "       237627.6  , 259945.6  ,  61942.402, 224309.56 , 216002.36 ,\n",
       "       258965.55 , 279494.8  , 282128.78 , 215788.88 , 228997.44 ,\n",
       "       301051.72 , 246653.61 , 313719.88 , 319756.72 , 243510.7  ,\n",
       "       270614.1  , 252412.36 , 293652.16 , 249291.34 , 337509.62 ,\n",
       "       281729.   , 295249.6  , 253283.66 , 268234.22 , 304661.97 ,\n",
       "       294465.25 ,  63565.39 , 251375.34 , 252014.94 , 249537.97 ,\n",
       "       330292.44 , 299196.12 , 312639.2  , 248697.2  , 221080.27 ,\n",
       "       254698.7  , 262362.5  , 304215.47 , 257156.53 , 271621.44 ,\n",
       "       254142.25 , 249886.17 , 264636.53 ,  53582.24 , 286766.62 ,\n",
       "       295979.94 , 313304.28 , 295752.   , 290359.56 , 274045.4  ,\n",
       "       216803.11 , 313112.94 , 284522.38 , 258852.9  , 265517.88 ,\n",
       "       300229.78 , 320101.22 , 219901.47 , 287212.72 , 259552.52 ,\n",
       "       240648.02 , 243083.55 , 245345.55 , 302987.72 , 293437.28 ],\n",
       "      dtype=float32)"
      ]
     },
     "execution_count": 43,
     "metadata": {},
     "output_type": "execute_result"
    }
   ],
   "source": [
    "y_pred"
   ]
  },
  {
   "cell_type": "code",
   "execution_count": 44,
   "metadata": {},
   "outputs": [
    {
     "data": {
      "text/plain": [
       "array([250831, 282202, 278663,  48476, 242026, 212304, 235649, 320328,\n",
       "       326876, 249272, 223909, 316720, 286090, 282402, 255021, 290811,\n",
       "       249813, 250901,  59436, 205880, 275308, 320802, 233089, 312594,\n",
       "       213496, 237384, 282183,  69236, 306244, 316846, 248493, 224497,\n",
       "       285872, 208834, 264417, 284458,  50396, 269379, 333711, 265002,\n",
       "       290491, 210677, 266431,  76990,  63996, 232695, 273138,  39156,\n",
       "       292441, 300842,  52476, 246149, 275129, 338919, 248733, 307675,\n",
       "       285176, 251786, 247234, 290704, 288822, 288214,  50596, 316140,\n",
       "       291904, 257451, 278346, 292164, 246579, 260771, 221305, 316739,\n",
       "       281729,  81490, 325184, 308760, 296393, 226278, 340781, 243237,\n",
       "       274048, 248860, 249750, 214148, 255213, 247779, 294855, 297498,\n",
       "       229204, 290624, 236559, 297158, 251357, 228249,  49796, 309103,\n",
       "       271895, 320951, 287042, 209157, 270469, 228033, 252437, 300968,\n",
       "       253892, 217073, 269668, 260250, 363367, 278063, 323447, 262835,\n",
       "       288498, 288693, 273856, 245801,  65990, 294068, 290879, 218703,\n",
       "       335341, 291735, 267232, 303293, 363367, 212894, 240942, 332084,\n",
       "       271463, 265720, 232982, 266432, 253785, 220526, 260163, 218881,\n",
       "       291080, 258255, 219204, 227926, 240417, 344019, 263890,  53796,\n",
       "       295529, 287242, 238446, 275567, 280317,  49290, 246062, 337459,\n",
       "       221895, 206318, 263741, 256018, 329629, 236147, 240592, 304376,\n",
       "       245263,  52476, 295742, 333862, 210980, 283446, 221913, 205103,\n",
       "       274768, 296737, 264827,  33990, 279145, 287952, 242331, 380937,\n",
       "       246150, 266129, 254157, 281942, 283594, 296087, 244825,  61556,\n",
       "       306550, 227881,  70796, 257647, 262638, 273456, 231739, 284351,\n",
       "       249056, 305094, 277774, 226995, 248386, 314877, 293159, 285673,\n",
       "       236946, 284526, 253960, 223543, 208396, 313312, 234912, 282309,\n",
       "       275567, 286868, 222458, 275569, 258601, 321946, 216365, 325592,\n",
       "       295698, 238556,  49076, 265261, 238556, 278599, 267993, 258255,\n",
       "       241660,  61690, 211265, 271531, 250031, 257559, 342559, 231196,\n",
       "       252547, 284825, 279800, 245214, 283008, 252790, 245692, 282402,\n",
       "       253391, 267124, 280754, 228142, 283397, 276735, 226426, 215232,\n",
       "       302598, 211525, 254956,  79990, 221134, 237183,  63196, 288907,\n",
       "       275784, 349589, 320802, 301603, 206425, 291185, 247124, 291186,\n",
       "       230765, 313967, 256167, 341124, 274154, 329629, 248684, 216664,\n",
       "       349833, 301127, 255131, 290823, 223650, 352146, 271837, 266022,\n",
       "       288801, 265110, 246042, 254157, 252330, 321580, 292164, 241030,\n",
       "       238663, 267694, 209350, 251573, 286635, 277284, 261833,  49836,\n",
       "       316506, 233456, 230466, 241917, 219942, 329918, 243887, 285416,\n",
       "       267606, 258992, 247596,  59636, 254479, 275655, 311650, 265719,\n",
       "       295529, 317438, 288059, 265350, 329480, 238446, 246278, 303903,\n",
       "       264787, 285524, 315178, 277412, 298954, 244974, 322534, 287341,\n",
       "       279060, 263809, 276739, 289998, 276563, 261726, 226513, 330241,\n",
       "       300124, 279821, 289755, 286346, 258255, 281139,  51676, 282134,\n",
       "       280776, 317694, 315467, 256673, 334576, 218443, 248315, 290276,\n",
       "       262942, 332252, 221764, 273960, 252696, 221325, 253155, 265370,\n",
       "       216664, 328459, 242390, 259208,  72276, 293246,  41476, 279599,\n",
       "       283769, 339676, 300582, 287064, 208833, 326984, 240592, 268648,\n",
       "       285413, 238446, 272550, 218293, 276020, 273852, 294069, 219943,\n",
       "       285614, 235673, 255063, 325524, 218443, 290106, 293159, 310889,\n",
       "       221871, 313772, 307851, 219765,  57876, 293922, 279928,  52236,\n",
       "       221134,  54116, 243108, 294767, 270210, 273505, 286528, 294659,\n",
       "       219571, 261138, 243759, 311620, 329368, 232588, 244543, 251009,\n",
       "        54916, 220419, 255931, 274720, 251269, 335732, 211525, 211087,\n",
       "       262271, 227381, 300426, 295720, 202587, 262944, 308149, 262659,\n",
       "       305836,  63596, 277881, 276350, 259364, 255564, 270927, 222719,\n",
       "       256325, 279250, 224865, 281139, 277082,  61196, 252804, 276564,\n",
       "       252329, 269190, 278171, 232981, 291297, 266256, 257063, 297549,\n",
       "       255043, 244824, 334468, 299276, 300432, 308760, 239618,  62490,\n",
       "       278057, 288694, 290105, 274223, 252224, 216948, 320084, 285723,\n",
       "       257736, 266415, 274916, 256626, 271875, 206317, 299867, 265827,\n",
       "       330998, 214995, 301144,  59996, 243088, 244608, 355029, 258603,\n",
       "       315851, 277668, 238189, 260078,  61876, 225626, 216365, 259210,\n",
       "       279618, 282309, 217512, 228750, 301020, 247234, 313249, 320125,\n",
       "       243546, 270382, 253501, 294221, 248493, 337547, 281384, 295634,\n",
       "       252437, 268044, 305181, 294917,  40990, 252155, 252441, 249270,\n",
       "       330241, 298802, 312662, 249447, 220419, 255131, 261791, 304963,\n",
       "       256476, 271337, 254740, 249925, 264349,  52516, 287233, 295528,\n",
       "       313249, 297498, 289709, 274411, 216187, 313856, 284718, 258622,\n",
       "       264242, 299863, 319977, 218789, 286178, 259317, 241659, 244063,\n",
       "       245517, 302942, 293136], dtype=int64)"
      ]
     },
     "execution_count": 44,
     "metadata": {},
     "output_type": "execute_result"
    }
   ],
   "source": [
    "test_y"
   ]
  },
  {
   "cell_type": "code",
   "execution_count": 45,
   "metadata": {},
   "outputs": [],
   "source": [
    "import pickle\n",
    "pickle.dump(regressor, open('model.pkl','wb'))"
   ]
  },
  {
   "cell_type": "code",
   "execution_count": 46,
   "metadata": {},
   "outputs": [
    {
     "data": {
      "text/plain": [
       "array([[  32,    0, 2048, ...,    8,    3,    4],\n",
       "       [  32,    0, 2048, ...,    8,    3,    4],\n",
       "       [  32,    0,  512, ...,    8,    3,    4],\n",
       "       ...,\n",
       "       [   8,    0, 2048, ...,    9,    3,    4],\n",
       "       [  32,    0, 2048, ...,   10,    3,    4],\n",
       "       [  64,    0, 1024, ...,   10,    3,    4]], dtype=int64)"
      ]
     },
     "execution_count": 46,
     "metadata": {},
     "output_type": "execute_result"
    }
   ],
   "source": [
    "train_x"
   ]
  },
  {
   "cell_type": "code",
   "execution_count": 47,
   "metadata": {},
   "outputs": [
    {
     "data": {
      "image/png": "[encoded data removed]",
      "text/plain": [
       "<Figure size 432x288 with 1 Axes>"
      ]
     },
     "metadata": {
      "needs_background": "light"
     },
     "output_type": "display_data"
    }
   ],
   "source": [
    "import xgboost as xgb\n",
    "xgb.plot_importance(regressor)\n",
    "plt.show()"
   ]
  },
  {
   "cell_type": "code",
   "execution_count": null,
   "metadata": {},
   "outputs": [],
   "source": []
  },
  {
   "cell_type": "code",
   "execution_count": null,
   "metadata": {},
   "outputs": [],
   "source": []
  }
 ],
 "metadata": {
  "kernelspec": {
   "display_name": "Python 3",
   "language": "python",
   "name": "python3"
  },
  "language_info": {
   "codemirror_mode": {
    "name": "ipython",
    "version": 3
   },
   "file_extension": ".py",
   "mimetype": "text/x-python",
   "name": "python",
   "nbconvert_exporter": "python",
   "pygments_lexer": "ipython3",
   "version": "3.7.4"
  }
 },
 "nbformat": 4,
 "nbformat_minor": 2
}
